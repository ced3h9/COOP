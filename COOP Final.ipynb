{
    "nbformat_minor": 1, 
    "cells": [
        {
            "source": "# Data cleaning and refinery for COOP sales orders and WS Price List\n\nObjectives:\n- Clean sales standard extraction of sales orders from COOP web shop\n- Merge it with WS price List\n- Simple Visuals of the data (next)", 
            "cell_type": "markdown", 
            "metadata": {}
        }, 
        {
            "source": "# Table of contents\nThe main parts of this notebook are:\n1. [Load data into DataFrames](#load)\n1. [Data Transformation and features engineering](#eng)\n1. [Output File](#out)\n    \n1. [Next steps](#next)", 
            "cell_type": "markdown", 
            "metadata": {}
        }, 
        {
            "execution_count": null, 
            "cell_type": "code", 
            "metadata": {}, 
            "outputs": [], 
            "source": "import numpy as np\nimport pandas as pd\nimport re"
        }, 
        {
            "execution_count": 29, 
            "cell_type": "code", 
            "metadata": {}, 
            "outputs": [
                {
                    "execution_count": 29, 
                    "metadata": {}, 
                    "data": {
                        "text/html": "<div>\n<table border=\"1\" class=\"dataframe\">\n  <thead>\n    <tr style=\"text-align: right;\">\n      <th></th>\n      <th>Unnamed: 0</th>\n      <th>Unnamed: 1</th>\n      <th>Unnamed: 2</th>\n      <th>Unnamed: 3</th>\n      <th>Unnamed: 4</th>\n      <th>Unnamed: 5</th>\n      <th>Unnamed: 6</th>\n      <th>Unnamed: 7</th>\n      <th>Unnamed: 8</th>\n      <th>Unnamed: 9</th>\n      <th>Unnamed: 10</th>\n    </tr>\n  </thead>\n  <tbody>\n    <tr>\n      <th>0</th>\n      <td>Colour Guide:</td>\n      <td>Specials</td>\n      <td>New Products</td>\n      <td>Back in Stock</td>\n      <td>NaN</td>\n      <td>NaN</td>\n      <td>New Size</td>\n      <td>NaN</td>\n      <td>NaN</td>\n      <td>NaN</td>\n      <td>NaN</td>\n    </tr>\n    <tr>\n      <th>1</th>\n      <td>Code</td>\n      <td>Description</td>\n      <td>Brand</td>\n      <td>QTY</td>\n      <td>Single unit price</td>\n      <td>Units per Box</td>\n      <td>Unit price for box buy</td>\n      <td>GST</td>\n      <td>RRP (includes GST if applicable)</td>\n      <td>Origin</td>\n      <td>Barcode</td>\n    </tr>\n    <tr>\n      <th>2</th>\n      <td>ASIAN GROCERY (see also oils, vinegars, dressi...</td>\n      <td>NaN</td>\n      <td>NaN</td>\n      <td>NaN</td>\n      <td>NaN</td>\n      <td>NaN</td>\n      <td>NaN</td>\n      <td>NaN</td>\n      <td>NaN</td>\n      <td>NaN</td>\n      <td>NaN</td>\n    </tr>\n    <tr>\n      <th>3</th>\n      <td>AGMISBR2.300</td>\n      <td>Organic Miso - Brown Rice 300g</td>\n      <td>Carwari</td>\n      <td>1-5</td>\n      <td>$13.50</td>\n      <td>6+</td>\n      <td>$10.25</td>\n      <td>NO</td>\n      <td>$16.90</td>\n      <td>Japan</td>\n      <td>9368056969582</td>\n    </tr>\n    <tr>\n      <th>4</th>\n      <td>AGMISR2.500</td>\n      <td>Organic Miso - Red 500g</td>\n      <td>Carwari</td>\n      <td>1-5</td>\n      <td>$13.50</td>\n      <td>6+</td>\n      <td>$10.25</td>\n      <td>NO</td>\n      <td>$16.90</td>\n      <td>Japan</td>\n      <td>9368056969544</td>\n    </tr>\n  </tbody>\n</table>\n</div>", 
                        "text/plain": "                                          Unnamed: 0  \\\n0                                      Colour Guide:   \n1                                               Code   \n2  ASIAN GROCERY (see also oils, vinegars, dressi...   \n3                                       AGMISBR2.300   \n4                                        AGMISR2.500   \n\n                       Unnamed: 1    Unnamed: 2     Unnamed: 3  \\\n0                        Specials  New Products  Back in Stock   \n1                     Description         Brand            QTY   \n2                             NaN           NaN            NaN   \n3  Organic Miso - Brown Rice 300g       Carwari            1-5   \n4         Organic Miso - Red 500g       Carwari            1-5   \n\n          Unnamed: 4     Unnamed: 5              Unnamed: 6 Unnamed: 7  \\\n0                NaN            NaN                New Size        NaN   \n1  Single unit price  Units per Box  Unit price for box buy        GST   \n2                NaN            NaN                     NaN        NaN   \n3             $13.50             6+                  $10.25         NO   \n4             $13.50             6+                  $10.25         NO   \n\n                         Unnamed: 8 Unnamed: 9    Unnamed: 10  \n0                               NaN        NaN            NaN  \n1  RRP (includes GST if applicable)     Origin        Barcode  \n2                               NaN        NaN            NaN  \n3                            $16.90      Japan  9368056969582  \n4                            $16.90      Japan  9368056969544  "
                    }, 
                    "output_type": "execute_result"
                }
            ], 
            "source": "# The code was removed by DSX for sharing."
        }, 
        {
            "execution_count": 30, 
            "cell_type": "code", 
            "metadata": {}, 
            "outputs": [], 
            "source": "#Assign headers \ndf_data_WS_Price_raw.columns = ['SKU', 'SKU_Desc', 'Brand', 'QTY', 'Single unit price', 'Units per Box', 'Unit price for box buy', 'GST', 'RRP (includes GST if applicable)', 'Origin', 'Barcode' ]\n#drop columns\ndf_data_WS_Price_raw_clean = df_data_WS_Price_raw.drop(['SKU_Desc', 'Brand', 'QTY', 'Units per Box', 'Origin', 'Barcode', 'GST'], axis=1)"
        }, 
        {
            "execution_count": 31, 
            "cell_type": "code", 
            "metadata": {}, 
            "outputs": [
                {
                    "execution_count": 31, 
                    "metadata": {}, 
                    "data": {
                        "text/html": "<div>\n<table border=\"1\" class=\"dataframe\">\n  <thead>\n    <tr style=\"text-align: right;\">\n      <th></th>\n      <th>Unnamed: 0</th>\n      <th>Unnamed: 1</th>\n      <th>Unnamed: 2</th>\n      <th>Unnamed: 3</th>\n      <th>Unnamed: 4</th>\n      <th>Unnamed: 5</th>\n    </tr>\n  </thead>\n  <tbody>\n    <tr>\n      <th>0</th>\n      <td>NaN</td>\n      <td>NaN</td>\n      <td>NaN</td>\n      <td>NaN</td>\n      <td>NaN</td>\n      <td>NaN</td>\n    </tr>\n    <tr>\n      <th>1</th>\n      <td>Stas Svamin</td>\n      <td>NaN</td>\n      <td>NaN</td>\n      <td>NaN</td>\n      <td>NaN</td>\n      <td>NaN</td>\n    </tr>\n    <tr>\n      <th>2</th>\n      <td>Product code</td>\n      <td>Item description</td>\n      <td>Qty</td>\n      <td>Unit price</td>\n      <td>Weight</td>\n      <td>Subtotal</td>\n    </tr>\n    <tr>\n      <th>3</th>\n      <td>SPHONRA2.1</td>\n      <td>Organic Raw Honey - Australian 1KG</td>\n      <td>1</td>\n      <td>16.45</td>\n      <td>1.4 kg</td>\n      <td>16.45</td>\n    </tr>\n    <tr>\n      <th>4</th>\n      <td>GRMILH2.5</td>\n      <td>Organic Millet Hulled 5KG FILLED SPLIT</td>\n      <td>1.0 kg</td>\n      <td>$4.86/kg</td>\n      <td>5.08 kg</td>\n      <td>4.86</td>\n    </tr>\n  </tbody>\n</table>\n</div>", 
                        "text/plain": "     Unnamed: 0                              Unnamed: 1 Unnamed: 2  \\\n0           NaN                                     NaN        NaN   \n1   Stas Svamin                                     NaN        NaN   \n2  Product code                        Item description        Qty   \n3    SPHONRA2.1      Organic Raw Honey - Australian 1KG          1   \n4     GRMILH2.5  Organic Millet Hulled 5KG FILLED SPLIT     1.0 kg   \n\n   Unnamed: 3 Unnamed: 4 Unnamed: 5  \n0         NaN        NaN        NaN  \n1         NaN        NaN        NaN  \n2  Unit price     Weight   Subtotal  \n3       16.45     1.4 kg      16.45  \n4    $4.86/kg    5.08 kg       4.86  "
                    }, 
                    "output_type": "execute_result"
                }
            ], 
            "source": "\nbody = client_0c4374cc9ea94d83be07b65352226c15.get_object(Bucket='coop473c0fe0a8804789908dac85ac7d2e00',Key='Savings Calculation - From portal.csv')['Body']\n# add missing __iter__ method, so pandas accepts body as file-like object\nif not hasattr(body, \"__iter__\"): body.__iter__ = types.MethodType( __iter__, body )\n\ndf_data_sales_raw = pd.read_csv(body)\ndf_data_sales_raw.head()\n\n"
        }, 
        {
            "execution_count": null, 
            "cell_type": "code", 
            "metadata": {}, 
            "outputs": [], 
            "source": ""
        }, 
        {
            "execution_count": 32, 
            "cell_type": "code", 
            "metadata": {}, 
            "outputs": [], 
            "source": "#assign columns\ndf_data_sales_raw.columns = ['SKU', 'SKU_Desc', 'QTY', 'Unit Price', 'Weight', 'Subtotal']\ndf_data_sales_raw_name = df_data_sales_raw"
        }, 
        {
            "execution_count": 33, 
            "cell_type": "code", 
            "metadata": {}, 
            "outputs": [
                {
                    "execution_count": 33, 
                    "metadata": {}, 
                    "data": {
                        "text/html": "<div>\n<table border=\"1\" class=\"dataframe\">\n  <thead>\n    <tr style=\"text-align: right;\">\n      <th></th>\n      <th>SKU</th>\n      <th>SKU_Desc</th>\n      <th>QTY</th>\n      <th>Unit Price</th>\n      <th>Weight</th>\n      <th>Subtotal</th>\n      <th>lag</th>\n      <th>Cust</th>\n    </tr>\n  </thead>\n  <tbody>\n    <tr>\n      <th>0</th>\n      <td>NaN</td>\n      <td>NaN</td>\n      <td>NaN</td>\n      <td>NaN</td>\n      <td>NaN</td>\n      <td>NaN</td>\n      <td>NaN</td>\n      <td>NaN</td>\n    </tr>\n    <tr>\n      <th>1</th>\n      <td>Stas Svamin</td>\n      <td>NaN</td>\n      <td>NaN</td>\n      <td>NaN</td>\n      <td>NaN</td>\n      <td>NaN</td>\n      <td>NaN</td>\n      <td>NaN</td>\n    </tr>\n    <tr>\n      <th>2</th>\n      <td>Product code</td>\n      <td>Item description</td>\n      <td>Qty</td>\n      <td>Unit price</td>\n      <td>Weight</td>\n      <td>Subtotal</td>\n      <td>Stas Svamin</td>\n      <td>Stas Svamin</td>\n    </tr>\n    <tr>\n      <th>3</th>\n      <td>SPHONRA2.1</td>\n      <td>Organic Raw Honey - Australian 1KG</td>\n      <td>1</td>\n      <td>16.45</td>\n      <td>1.4 kg</td>\n      <td>16.45</td>\n      <td>Product code</td>\n      <td>Stas Svamin</td>\n    </tr>\n    <tr>\n      <th>4</th>\n      <td>GRMILH2.5</td>\n      <td>Organic Millet Hulled 5KG FILLED SPLIT</td>\n      <td>1.0 kg</td>\n      <td>$4.86/kg</td>\n      <td>5.08 kg</td>\n      <td>4.86</td>\n      <td>SPHONRA2.1</td>\n      <td>Stas Svamin</td>\n    </tr>\n  </tbody>\n</table>\n</div>", 
                        "text/plain": "            SKU                                SKU_Desc     QTY  Unit Price  \\\n0           NaN                                     NaN     NaN         NaN   \n1   Stas Svamin                                     NaN     NaN         NaN   \n2  Product code                        Item description     Qty  Unit price   \n3    SPHONRA2.1      Organic Raw Honey - Australian 1KG       1       16.45   \n4     GRMILH2.5  Organic Millet Hulled 5KG FILLED SPLIT  1.0 kg    $4.86/kg   \n\n    Weight  Subtotal           lag         Cust  \n0      NaN       NaN           NaN          NaN  \n1      NaN       NaN           NaN          NaN  \n2   Weight  Subtotal   Stas Svamin  Stas Svamin  \n3   1.4 kg     16.45  Product code  Stas Svamin  \n4  5.08 kg      4.86    SPHONRA2.1  Stas Svamin  "
                    }, 
                    "output_type": "execute_result"
                }
            ], 
            "source": "# add custoemr name to separate column to get 3n file normalization\n# the assumption is that the name always goes next to 'Rpoduct name' text\n\n#define a condition function\ndef get_name(row):\n    if 'Product code' in row['SKU']:\n        return row['lag']\n    else:\n        return np.nan\n\n#add a row nad shift it 1 element up\ndf_data_sales_raw_name['lag'] = df_data_sales_raw_name['SKU'].shift(1)\n#Add new column and assign name if the condition of Product name is met\ndf_data_sales_raw_name['Cust'] = df_data_sales_raw_name.fillna(value='NA').apply(get_name ,axis=1)\n#Fill all NA to name above\ndf_data_sales_raw_name['Cust'].fillna(method = 'ffill', inplace = True)\n#check the result\ndf_data_sales_raw_name.head()"
        }, 
        {
            "execution_count": null, 
            "cell_type": "code", 
            "metadata": {}, 
            "outputs": [], 
            "source": ""
        }, 
        {
            "execution_count": 48, 
            "cell_type": "code", 
            "metadata": {}, 
            "outputs": [
                {
                    "execution_count": 48, 
                    "metadata": {}, 
                    "data": {
                        "text/html": "<div>\n<table border=\"1\" class=\"dataframe\">\n  <thead>\n    <tr style=\"text-align: right;\">\n      <th></th>\n      <th>SKU</th>\n      <th>SKU_Desc</th>\n      <th>QTY</th>\n      <th>Unit Price</th>\n      <th>Weight</th>\n      <th>Subtotal</th>\n      <th>lag</th>\n      <th>Cust</th>\n      <th>Single unit price</th>\n      <th>Unit price for box buy</th>\n      <th>RRP (includes GST if applicable)</th>\n    </tr>\n  </thead>\n  <tbody>\n    <tr>\n      <th>0</th>\n      <td>NaN</td>\n      <td>NaN</td>\n      <td>NaN</td>\n      <td>NaN</td>\n      <td>NaN</td>\n      <td>NaN</td>\n      <td>NaN</td>\n      <td>NaN</td>\n      <td>NaN</td>\n      <td>NaN</td>\n      <td>NaN</td>\n    </tr>\n    <tr>\n      <th>1</th>\n      <td>NaN</td>\n      <td>NaN</td>\n      <td>NaN</td>\n      <td>NaN</td>\n      <td>NaN</td>\n      <td>NaN</td>\n      <td>NaN</td>\n      <td>NaN</td>\n      <td>NaN</td>\n      <td>NaN</td>\n      <td>NaN</td>\n    </tr>\n    <tr>\n      <th>2</th>\n      <td>NaN</td>\n      <td>NaN</td>\n      <td>NaN</td>\n      <td>NaN</td>\n      <td>NaN</td>\n      <td>NaN</td>\n      <td>NaN</td>\n      <td>NaN</td>\n      <td>NaN</td>\n      <td>NaN</td>\n      <td>NaN</td>\n    </tr>\n    <tr>\n      <th>3</th>\n      <td>NaN</td>\n      <td>NaN</td>\n      <td>NaN</td>\n      <td>NaN</td>\n      <td>NaN</td>\n      <td>NaN</td>\n      <td>NaN</td>\n      <td>NaN</td>\n      <td>NaN</td>\n      <td>NaN</td>\n      <td>NaN</td>\n    </tr>\n    <tr>\n      <th>4</th>\n      <td>NaN</td>\n      <td>NaN</td>\n      <td>NaN</td>\n      <td>NaN</td>\n      <td>NaN</td>\n      <td>NaN</td>\n      <td>NaN</td>\n      <td>NaN</td>\n      <td>NaN</td>\n      <td>NaN</td>\n      <td>NaN</td>\n    </tr>\n  </tbody>\n</table>\n</div>", 
                        "text/plain": "   SKU SKU_Desc  QTY Unit Price Weight Subtotal  lag Cust Single unit price  \\\n0  NaN      NaN  NaN        NaN    NaN      NaN  NaN  NaN               NaN   \n1  NaN      NaN  NaN        NaN    NaN      NaN  NaN  NaN               NaN   \n2  NaN      NaN  NaN        NaN    NaN      NaN  NaN  NaN               NaN   \n3  NaN      NaN  NaN        NaN    NaN      NaN  NaN  NaN               NaN   \n4  NaN      NaN  NaN        NaN    NaN      NaN  NaN  NaN               NaN   \n\n  Unit price for box buy RRP (includes GST if applicable)  \n0                    NaN                              NaN  \n1                    NaN                              NaN  \n2                    NaN                              NaN  \n3                    NaN                              NaN  \n4                    NaN                              NaN  "
                    }, 
                    "output_type": "execute_result"
                }
            ], 
            "source": "#inner join by SKU (areas intersect)\ndf_sales_WS = pd.merge(df_data_sales_raw, df_data_WS_Price_raw_clean, how='inner', on=['SKU'], suffixes=('_sales', '_ws'))\ndf_sales_WS.head()"
        }, 
        {
            "execution_count": 49, 
            "cell_type": "code", 
            "metadata": {}, 
            "outputs": [], 
            "source": "##kepp only necessary columns and drop NA\ndf_sales_WS.dropna(inplace = True)\n"
        }, 
        {
            "execution_count": 50, 
            "cell_type": "code", 
            "metadata": {}, 
            "outputs": [], 
            "source": "##~~~~~~~~~~~~~Convert to num\n#df_sales_WS['Weight_num'] = pd.to_numeric(df_sales_WS['Weight'].replace(regex=True,to_replace=r'[^0-9.]+',value=r''), errors='coerce')\ndf_sales_WS['Single unit price_num'] = pd.to_numeric(df_sales_WS['Single unit price'].replace(regex=True,to_replace=r'[^0-9.]+',value=r''), errors='raise')\ndf_sales_WS['Unit price for box buy_num'] = pd.to_numeric(df_sales_WS['Unit price for box buy'].replace(regex=True,to_replace=r'[^0-9.]+',value=r''), errors='raise')\ndf_sales_WS['RRP (includes GST if applicable)_num'] = pd.to_numeric(df_sales_WS['RRP (includes GST if applicable)'].replace(regex=True,to_replace=r'[^0-9.]+',value=r''), errors='raise')\ndf_sales_WS['Subtotal_num'] = pd.to_numeric(df_sales_WS['Subtotal'], errors='raise')\n"
        }, 
        {
            "execution_count": 51, 
            "cell_type": "code", 
            "metadata": {}, 
            "outputs": [], 
            "source": "#print df_sales_WS[['SKU','Weight_num', 'QTY', 'Unit Price', 'Single unit price_num', 'Subtotal_num']] .head(50)"
        }, 
        {
            "execution_count": 52, 
            "cell_type": "code", 
            "metadata": {}, 
            "outputs": [], 
            "source": "#weigh column is wrong, get a new one from SKU description\n##new weight\ndf_sales_WS['new_weight'] = df_sales_WS['SKU'].str.split('.').str[1].str.strip()"
        }, 
        {
            "execution_count": 53, 
            "cell_type": "code", 
            "metadata": {}, 
            "outputs": [], 
            "source": "#calculate real qnty\ndef qnty_calc_row(row):\n     if  ' kg' in row['QTY']:\n        return float(re.sub('[^0-9.]+', '', row['QTY']))/float(row['new_weight'])\n     elif ' g' in row['QTY']:\n        return float(re.sub('[^0-9.]+', '',  row['QTY']))/1000/float(row['new_weight'])\n     else:\n        return row['QTY']\n    \ndf_sales_WS['qty_real'] = df_sales_WS['QTY']\ndf_sales_WS['qty_real'] = df_sales_WS.apply(qnty_calc_row, axis=1)\n"
        }, 
        {
            "execution_count": null, 
            "cell_type": "code", 
            "metadata": {}, 
            "outputs": [], 
            "source": ""
        }, 
        {
            "execution_count": 54, 
            "cell_type": "code", 
            "metadata": {}, 
            "outputs": [], 
            "source": "#check unit price\ndf_sales_WS['unit_price_calc'] = df_sales_WS['Subtotal_num'].astype(float)/df_sales_WS['qty_real'].astype(float)"
        }, 
        {
            "execution_count": 55, 
            "cell_type": "code", 
            "metadata": {}, 
            "outputs": [], 
            "source": "#calc subtotals based on WS price, PRP Price\ndf_sales_WS['Subtotal_WS'] = df_sales_WS['qty_real'].astype(float) * df_sales_WS['Single unit price_num'].astype(float)\ndf_sales_WS['Subtotal_RRP'] = df_sales_WS['qty_real'].astype(float) * df_sales_WS['RRP (includes GST if applicable)_num'].astype(float)"
        }, 
        {
            "execution_count": 56, 
            "cell_type": "code", 
            "metadata": {}, 
            "outputs": [
                {
                    "execution_count": 56, 
                    "metadata": {}, 
                    "data": {
                        "text/html": "<div>\n<table border=\"1\" class=\"dataframe\">\n  <thead>\n    <tr style=\"text-align: right;\">\n      <th></th>\n      <th>SKU</th>\n      <th>Cust</th>\n      <th>qty_real</th>\n      <th>unit_price_calc</th>\n      <th>Single unit price_num</th>\n      <th>RRP (includes GST if applicable)_num</th>\n      <th>Subtotal_num</th>\n      <th>Subtotal_WS</th>\n      <th>Subtotal_RRP</th>\n    </tr>\n  </thead>\n  <tbody>\n    <tr>\n      <th>27</th>\n      <td>SPHONRA2.1</td>\n      <td>Stas Svamin</td>\n      <td>1</td>\n      <td>16.45</td>\n      <td>16.45</td>\n      <td>19.95</td>\n      <td>16.45</td>\n      <td>16.45</td>\n      <td>19.95</td>\n    </tr>\n    <tr>\n      <th>28</th>\n      <td>SPHONRA2.1</td>\n      <td>Amanda Bernstein</td>\n      <td>1</td>\n      <td>16.45</td>\n      <td>16.45</td>\n      <td>19.95</td>\n      <td>16.45</td>\n      <td>16.45</td>\n      <td>19.95</td>\n    </tr>\n    <tr>\n      <th>29</th>\n      <td>SPHONRA2.1</td>\n      <td>Diana Stapleton</td>\n      <td>1</td>\n      <td>16.45</td>\n      <td>16.45</td>\n      <td>19.95</td>\n      <td>16.45</td>\n      <td>16.45</td>\n      <td>19.95</td>\n    </tr>\n    <tr>\n      <th>30</th>\n      <td>GRMILH2.5</td>\n      <td>Stas Svamin</td>\n      <td>0.2</td>\n      <td>24.30</td>\n      <td>24.30</td>\n      <td>31.60</td>\n      <td>4.86</td>\n      <td>4.86</td>\n      <td>6.32</td>\n    </tr>\n    <tr>\n      <th>31</th>\n      <td>GRMILH2.5</td>\n      <td>Alina Malina</td>\n      <td>0.6</td>\n      <td>24.30</td>\n      <td>24.30</td>\n      <td>31.60</td>\n      <td>14.58</td>\n      <td>14.58</td>\n      <td>18.96</td>\n    </tr>\n  </tbody>\n</table>\n</div>", 
                        "text/plain": "           SKU              Cust qty_real  unit_price_calc  \\\n27  SPHONRA2.1       Stas Svamin        1            16.45   \n28  SPHONRA2.1  Amanda Bernstein        1            16.45   \n29  SPHONRA2.1   Diana Stapleton        1            16.45   \n30   GRMILH2.5       Stas Svamin      0.2            24.30   \n31   GRMILH2.5      Alina Malina      0.6            24.30   \n\n    Single unit price_num  RRP (includes GST if applicable)_num  Subtotal_num  \\\n27                  16.45                                 19.95         16.45   \n28                  16.45                                 19.95         16.45   \n29                  16.45                                 19.95         16.45   \n30                  24.30                                 31.60          4.86   \n31                  24.30                                 31.60         14.58   \n\n    Subtotal_WS  Subtotal_RRP  \n27        16.45         19.95  \n28        16.45         19.95  \n29        16.45         19.95  \n30         4.86          6.32  \n31        14.58         18.96  "
                    }, 
                    "output_type": "execute_result"
                }
            ], 
            "source": "#check\ndf_sales_WS[['SKU', 'Cust', 'qty_real', 'unit_price_calc', 'Single unit price_num', 'RRP (includes GST if applicable)_num', 'Subtotal_num', 'Subtotal_WS', 'Subtotal_RRP']].head()"
        }, 
        {
            "execution_count": 57, 
            "cell_type": "code", 
            "metadata": {}, 
            "outputs": [
                {
                    "output_type": "stream", 
                    "name": "stdout", 
                    "text": "<class 'pandas.core.frame.DataFrame'>\nInt64Index: 314 entries, 27 to 340\nData columns (total 20 columns):\nSKU                                     314 non-null object\nSKU_Desc                                314 non-null object\nQTY                                     314 non-null object\nUnit Price                              314 non-null object\nWeight                                  314 non-null object\nSubtotal                                314 non-null object\nlag                                     314 non-null object\nCust                                    314 non-null object\nSingle unit price                       314 non-null object\nUnit price for box buy                  314 non-null object\nRRP (includes GST if applicable)        314 non-null object\nSingle unit price_num                   314 non-null float64\nUnit price for box buy_num              314 non-null float64\nRRP (includes GST if applicable)_num    314 non-null float64\nSubtotal_num                            314 non-null float64\nnew_weight                              312 non-null object\nqty_real                                314 non-null object\nunit_price_calc                         314 non-null float64\nSubtotal_WS                             314 non-null float64\nSubtotal_RRP                            314 non-null float64\ndtypes: float64(7), object(13)\nmemory usage: 51.5+ KB\nNone\n"
                }
            ], 
            "source": "\nprint df_sales_WS.info()"
        }, 
        {
            "source": "<a name=\"out\"></a>\n### Export output file", 
            "cell_type": "markdown", 
            "metadata": {}
        }, 
        {
            "execution_count": 60, 
            "cell_type": "code", 
            "metadata": {}, 
            "outputs": [], 
            "source": "# The code was removed by DSX for sharing."
        }, 
        {
            "execution_count": 61, 
            "cell_type": "code", 
            "metadata": {}, 
            "outputs": [], 
            "source": "from ibm_botocore.client import Config\nimport ibm_boto3\ncos = ibm_boto3.client(service_name='s3',\n    ibm_api_key_id=credentials['IBM_API_KEY_ID'],\n    ibm_service_instance_id=credentials['IAM_SERVICE_ID'],\n    ibm_auth_endpoint=credentials['IBM_AUTH_ENDPOINT'],\n    config=Config(signature_version='oauth'),\n    endpoint_url=credentials['ENDPOINT'])"
        }, 
        {
            "execution_count": 62, 
            "cell_type": "code", 
            "metadata": {}, 
            "outputs": [], 
            "source": "from ibm_botocore.client import Config\nimport ibm_boto3\ndef upload_file_cos(credentials,local_file_name,key):  \n    cos = ibm_boto3.client(service_name='s3',\n    ibm_api_key_id=credentials['IBM_API_KEY_ID'],\n    ibm_service_instance_id=credentials['IAM_SERVICE_ID'],\n    ibm_auth_endpoint=credentials['IBM_AUTH_ENDPOINT'],\n    config=Config(signature_version='oauth'),\n    endpoint_url=credentials['ENDPOINT'])\n    try:\n        res=cos.upload_file(Filename=local_file_name, Bucket=credentials['BUCKET'],Key=key)\n    except Exception as e:\n        print(Exception, e)\n    else:\n        print('File Uploaded')"
        }, 
        {
            "execution_count": 63, 
            "cell_type": "code", 
            "metadata": {}, 
            "outputs": [
                {
                    "output_type": "stream", 
                    "name": "stdout", 
                    "text": "File Uploaded\n"
                }
            ], 
            "source": "upload_file_cos(credentials,'COOP_Detailed_v1.csv','COOP_Detailed_v1.csv')"
        }, 
        {
            "execution_count": 24, 
            "cell_type": "code", 
            "metadata": {}, 
            "outputs": [], 
            "source": ""
        }
    ], 
    "metadata": {
        "kernelspec": {
            "display_name": "Python 2 with Spark 2.1", 
            "name": "python2-spark21", 
            "language": "python"
        }, 
        "language_info": {
            "mimetype": "text/x-python", 
            "nbconvert_exporter": "python", 
            "version": "2.7.11", 
            "name": "python", 
            "file_extension": ".py", 
            "pygments_lexer": "ipython2", 
            "codemirror_mode": {
                "version": 2, 
                "name": "ipython"
            }
        }
    }, 
    "nbformat": 4
}